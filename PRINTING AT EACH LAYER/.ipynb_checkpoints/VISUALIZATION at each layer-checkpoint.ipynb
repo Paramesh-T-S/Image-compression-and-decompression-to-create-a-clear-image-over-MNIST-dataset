{
 "cells": [
  {
   "cell_type": "code",
   "execution_count": 463,
   "metadata": {},
   "outputs": [],
   "source": [
    "import numpy as np\n",
    "import pandas as pd\n",
    "import matplotlib.pyplot as plt\n",
    "import seaborn as sns\n",
    "from keras.models import Sequential\n",
    "from keras.layers import Dense\n",
    "from keras.layers import Dropout\n",
    "from keras.layers import Flatten\n",
    "from keras.layers.convolutional import Conv2D\n",
    "from keras.layers.convolutional import MaxPooling2D\n",
    "from keras.utils import np_utils\n",
    "import cv2"
   ]
  },
  {
   "cell_type": "code",
   "execution_count": 464,
   "metadata": {},
   "outputs": [],
   "source": [
    "data = cv2.imread('img.png')"
   ]
  },
  {
   "cell_type": "code",
   "execution_count": 465,
   "metadata": {},
   "outputs": [
    {
     "data": {
      "text/plain": [
       "<matplotlib.image.AxesImage at 0x1a882926780>"
      ]
     },
     "execution_count": 465,
     "metadata": {},
     "output_type": "execute_result"
    },
    {
     "data": {
      "image/png": "[encoded data removed]",
      "text/plain": [
       "<Figure size 432x288 with 1 Axes>"
      ]
     },
     "metadata": {},
     "output_type": "display_data"
    }
   ],
   "source": [
    "plt.subplot(221)\n",
    "plt.imshow(data, cmap=plt.get_cmap('gray'))"
   ]
  },
  {
   "cell_type": "code",
   "execution_count": 466,
   "metadata": {},
   "outputs": [
    {
     "data": {
      "text/plain": [
       "(223, 222, 3)"
      ]
     },
     "execution_count": 466,
     "metadata": {},
     "output_type": "execute_result"
    }
   ],
   "source": [
    "data.shape"
   ]
  },
  {
   "cell_type": "code",
   "execution_count": 467,
   "metadata": {},
   "outputs": [],
   "source": [
    "# create model with only 1 conv layer\n",
    "data1 = data\n",
    "model1 = Sequential()\n",
    "\n",
    "# Applying first Convolution opertation\n",
    "model1.add(Conv2D(3, (3, 3), input_shape=data.shape, activation='relu'))"
   ]
  },
  {
   "cell_type": "code",
   "execution_count": 468,
   "metadata": {},
   "outputs": [],
   "source": [
    "# here we get rid of that added dimension and plot the image\n",
    "def visualize_data(model, data):\n",
    "    # Keras expects batches of images, so we have to add a dimension to trick it into being nice\n",
    "    data_batch = np.expand_dims(data,axis=0)\n",
    "    conv_data = model.predict(data_batch)\n",
    "    conv_data = np.squeeze(conv_data, axis=0)\n",
    "    print(conv_data.shape)\n",
    "    plt.subplot(221)\n",
    "    plt.imshow(conv_data)"
   ]
  },
  {
   "cell_type": "code",
   "execution_count": 469,
   "metadata": {},
   "outputs": [
    {
     "name": "stderr",
     "output_type": "stream",
     "text": [
      "Clipping input data to the valid range for imshow with RGB data ([0..1] for floats or [0..255] for integers).\n"
     ]
    },
    {
     "name": "stdout",
     "output_type": "stream",
     "text": [
      "(221, 220, 3)\n"
     ]
    },
    {
     "data": {
      "image/png": "[encoded data removed]",
      "text/plain": [
       "<Figure size 432x288 with 1 Axes>"
      ]
     },
     "metadata": {},
     "output_type": "display_data"
    }
   ],
   "source": [
    "visualize_data(model1,data1)"
   ]
  },
  {
   "cell_type": "code",
   "execution_count": 470,
   "metadata": {},
   "outputs": [],
   "source": [
    "# define the model with conv1 and max_pooling\n",
    "\n",
    "# create model\n",
    "data2 = data\n",
    "model2 = Sequential()\n",
    "\n",
    "# Applying first Convolution opertation\n",
    "model2.add(Conv2D(3, (3, 3), input_shape=data2.shape, activation='relu'))\n",
    "model2.add(MaxPooling2D(pool_size=(2, 2)))"
   ]
  },
  {
   "cell_type": "code",
   "execution_count": 471,
   "metadata": {},
   "outputs": [
    {
     "name": "stderr",
     "output_type": "stream",
     "text": [
      "Clipping input data to the valid range for imshow with RGB data ([0..1] for floats or [0..255] for integers).\n"
     ]
    },
    {
     "name": "stdout",
     "output_type": "stream",
     "text": [
      "(110, 110, 3)\n"
     ]
    },
    {
     "data": {
      "image/png": "[encoded data removed]",
      "text/plain": [
       "<Figure size 432x288 with 1 Axes>"
      ]
     },
     "metadata": {},
     "output_type": "display_data"
    }
   ],
   "source": [
    "visualize_data(model2,data2)"
   ]
  },
  {
   "cell_type": "code",
   "execution_count": 472,
   "metadata": {},
   "outputs": [],
   "source": [
    "# define the model3 with 2conv operations and 1 max pooling operation\n",
    "\n",
    "# create model\n",
    "data3 = data\n",
    "model3 = Sequential()\n",
    "\n",
    "# Applying first Convolution opertation\n",
    "model3.add(Conv2D(3, (3, 3), input_shape=data3.shape, activation='relu'))\n",
    "model3.add(MaxPooling2D(pool_size=(2, 2)))\n",
    "\n",
    "# Applying Second Convolution opertation\n",
    "model3.add(Conv2D(3, (3, 3), activation='relu'))"
   ]
  },
  {
   "cell_type": "code",
   "execution_count": 473,
   "metadata": {},
   "outputs": [
    {
     "name": "stderr",
     "output_type": "stream",
     "text": [
      "Clipping input data to the valid range for imshow with RGB data ([0..1] for floats or [0..255] for integers).\n"
     ]
    },
    {
     "name": "stdout",
     "output_type": "stream",
     "text": [
      "(108, 108, 3)\n"
     ]
    },
    {
     "data": {
      "image/png": "[encoded data removed]",
      "text/plain": [
       "<Figure size 432x288 with 1 Axes>"
      ]
     },
     "metadata": {},
     "output_type": "display_data"
    }
   ],
   "source": [
    "visualize_data(model3,data3)"
   ]
  },
  {
   "cell_type": "code",
   "execution_count": 474,
   "metadata": {},
   "outputs": [],
   "source": [
    "# define the model3 with 2conv operations and 1 max pooling operation\n",
    "\n",
    "# create model\n",
    "data4 = data\n",
    "model4 = Sequential()\n",
    "\n",
    "# Applying first Convolution opertation\n",
    "model4.add(Conv2D(3, (3, 3), input_shape=data3.shape, activation='relu'))\n",
    "model4.add(MaxPooling2D(pool_size=(2, 2)))\n",
    "\n",
    "# Applying Second Convolution opertation\n",
    "model4.add(Conv2D(3, (3, 3), activation='relu'))\n",
    "model4.add(MaxPooling2D(pool_size=(2, 2)))"
   ]
  },
  {
   "cell_type": "code",
   "execution_count": 475,
   "metadata": {},
   "outputs": [
    {
     "name": "stderr",
     "output_type": "stream",
     "text": [
      "Clipping input data to the valid range for imshow with RGB data ([0..1] for floats or [0..255] for integers).\n"
     ]
    },
    {
     "name": "stdout",
     "output_type": "stream",
     "text": [
      "(54, 54, 3)\n"
     ]
    },
    {
     "data": {
      "image/png": "[encoded data removed]",
      "text/plain": [
       "<Figure size 432x288 with 1 Axes>"
      ]
     },
     "metadata": {},
     "output_type": "display_data"
    }
   ],
   "source": [
    "visualize_data(model4,data4)"
   ]
  },
  {
   "cell_type": "code",
   "execution_count": 476,
   "metadata": {},
   "outputs": [],
   "source": [
    "# define the model3 with 2conv operations and 1 max pooling operation\n",
    "\n",
    "# create model\n",
    "data5 = data\n",
    "model5 = Sequential()\n",
    "\n",
    "# Applying first Convolution opertation\n",
    "model5.add(Conv2D(3, (3, 3), input_shape=data3.shape, activation='relu'))\n",
    "model5.add(MaxPooling2D(pool_size=(2, 2)))\n",
    "\n",
    "# Applying Second Convolution opertation\n",
    "model5.add(Conv2D(3, (3, 3), activation='relu'))\n",
    "model5.add(MaxPooling2D(pool_size=(2, 2)))\n",
    "\n",
    "#dropout\n",
    "model5.add(Dropout(0.2))"
   ]
  },
  {
   "cell_type": "code",
   "execution_count": 478,
   "metadata": {},
   "outputs": [
    {
     "name": "stderr",
     "output_type": "stream",
     "text": [
      "Clipping input data to the valid range for imshow with RGB data ([0..1] for floats or [0..255] for integers).\n"
     ]
    },
    {
     "name": "stdout",
     "output_type": "stream",
     "text": [
      "(54, 54, 3)\n"
     ]
    },
    {
     "data": {
      "image/png": "[encoded data removed]",
      "text/plain": [
       "<Figure size 432x288 with 1 Axes>"
      ]
     },
     "metadata": {},
     "output_type": "display_data"
    }
   ],
   "source": [
    "visualize_data(model5,data5)"
   ]
  },
  {
   "cell_type": "code",
   "execution_count": 479,
   "metadata": {},
   "outputs": [],
   "source": [
    "# define the model3 with 2conv operations and 1 max pooling operation\n",
    "\n",
    "# create model\n",
    "data6 = data\n",
    "model6 = Sequential()\n",
    "\n",
    "# Applying first Convolution opertation\n",
    "model6.add(Conv2D(3, (3, 3), input_shape=data3.shape, activation='relu'))\n",
    "model6.add(MaxPooling2D(pool_size=(2, 2)))\n",
    "\n",
    "# Applying Second Convolution opertation\n",
    "model6.add(Conv2D(3, (3, 3), activation='relu'))\n",
    "model6.add(MaxPooling2D(pool_size=(2, 2)))\n",
    "\n",
    "#dropout\n",
    "model6.add(Dropout(0.2))\n",
    "\n",
    "#flattening\n",
    "model6.add(Flatten())"
   ]
  },
  {
   "cell_type": "code",
   "execution_count": 481,
   "metadata": {},
   "outputs": [],
   "source": [
    "# here we get rid of that added dimension and plot the image\n",
    "def visualize_flatten_data(model, data):\n",
    "    # Keras expects batches of images, so we have to add a dimension to trick it into being nice\n",
    "    data_batch = np.expand_dims(data,axis=0)\n",
    "    conv_data = model.predict(data_batch)\n",
    "    conv_data = np.squeeze(conv_data, axis=0)\n",
    "    print(conv_data.shape)"
   ]
  },
  {
   "cell_type": "code",
   "execution_count": null,
   "metadata": {},
   "outputs": [],
   "source": []
  },
  {
   "cell_type": "code",
   "execution_count": null,
   "metadata": {},
   "outputs": [],
   "source": []
  }
 ],
 "metadata": {
  "kernelspec": {
   "display_name": "Python 3",
   "language": "python",
   "name": "python3"
  },
  "language_info": {
   "codemirror_mode": {
    "name": "ipython",
    "version": 3
   },
   "file_extension": ".py",
   "mimetype": "text/x-python",
   "name": "python",
   "nbconvert_exporter": "python",
   "pygments_lexer": "ipython3",
   "version": "3.6.5"
  }
 },
 "nbformat": 4,
 "nbformat_minor": 2
}
